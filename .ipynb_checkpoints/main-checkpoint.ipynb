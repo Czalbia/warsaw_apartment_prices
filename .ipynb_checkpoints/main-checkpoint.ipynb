{
 "cells": [
  {
   "cell_type": "code",
   "execution_count": null,
   "metadata": {
    "jupyter": {
     "source_hidden": true
    }
   },
   "outputs": [],
   "source": [
    "# matplotlib for plotting\n",
    "from matplotlib import pyplot as plt\n",
    "# pandas for managing csv file\n",
    "import pandas as pd"
   ]
  },
  {
   "cell_type": "code",
   "execution_count": null,
   "metadata": {},
   "outputs": [],
   "source": [
    "# importing csv file\n",
    "imported= pd.read_csv('data.csv')\n",
    "df = pd.DataFrame(data=imported)"
   ]
  },
  {
   "cell_type": "code",
   "execution_count": null,
   "metadata": {},
   "outputs": [],
   "source": [
    "# sample of df (data)\n",
    "df.head"
   ]
  },
  {
   "cell_type": "code",
   "execution_count": null,
   "metadata": {},
   "outputs": [],
   "source": [
    "# leaving only area and price categories\n",
    "df = df.filter(['area','gross_price'])\n",
    "df"
   ]
  },
  {
   "cell_type": "code",
   "execution_count": null,
   "metadata": {},
   "outputs": [],
   "source": [
    "# transforming csv into a python list\n",
    "n = len(df)\n",
    "print(n)\n",
    "# X as area\n",
    "x = df['area'].tolist()\n",
    "# Y as gross price\n",
    "y = df['gross_price'].tolist()"
   ]
  },
  {
   "cell_type": "code",
   "execution_count": null,
   "metadata": {},
   "outputs": [],
   "source": [
    "plt.plot(x,y,\".\")"
   ]
  },
  {
   "cell_type": "code",
   "execution_count": null,
   "metadata": {},
   "outputs": [],
   "source": [
    "meanX = sum(x)/n\n",
    "meanY = sum(y)/n"
   ]
  },
  {
   "cell_type": "code",
   "execution_count": null,
   "metadata": {},
   "outputs": [],
   "source": [
    "# function that calculates and returns total sum of squares of x\n",
    "def total_sum_of_sq_x(n,x,meanX):\n",
    "    a = [(x[i]-meanX)**2 for i in range(n)]\n",
    "    return sum(a)"
   ]
  },
  {
   "cell_type": "code",
   "execution_count": null,
   "metadata": {},
   "outputs": [],
   "source": [
    "# function that calculates and returns total sum of x and y\n",
    "def total_sum_of_x_y(n,x,meanX,meanY):\n",
    "    a= [(x[i]-meanX)*(y[i]-meanY) for i in range(n)]\n",
    "    return sum(a)"
   ]
  },
  {
   "cell_type": "code",
   "execution_count": null,
   "metadata": {},
   "outputs": [],
   "source": [
    "global beta_one,beta_zero\n",
    "# defining beta1 parameter\n",
    "beta_one = total_sum_of_x_y(n,x,meanX,meanY)/total_sum_of_sq_x(n,x,meanX) \n",
    "beta_one"
   ]
  },
  {
   "cell_type": "code",
   "execution_count": null,
   "metadata": {},
   "outputs": [],
   "source": [
    "# defining beta0 parameter\n",
    "beta_zero   = meanY - beta_one*meanX\n",
    "beta_zero"
   ]
  },
  {
   "cell_type": "code",
   "execution_count": null,
   "metadata": {},
   "outputs": [],
   "source": [
    "# ploting the linear regression and data points\n",
    "plt.axline(xy1=(0,beta_zero),slope=beta_one,color=\"c\")\n",
    "plt.plot(x,y,\".k\")"
   ]
  },
  {
   "cell_type": "code",
   "execution_count": null,
   "metadata": {},
   "outputs": [],
   "source": [
    "# linear regresssion prediction function\n",
    "def predict_y(x):\n",
    "    return beta_one*x+beta_zero "
   ]
  },
  {
   "cell_type": "code",
   "execution_count": null,
   "metadata": {},
   "outputs": [],
   "source": [
    "predict_y(62)"
   ]
  }
 ],
 "metadata": {
  "kernelspec": {
   "display_name": "Python 3 (ipykernel)",
   "language": "python",
   "name": "python3"
  },
  "language_info": {
   "codemirror_mode": {
    "name": "ipython",
    "version": 3
   },
   "file_extension": ".py",
   "mimetype": "text/x-python",
   "name": "python",
   "nbconvert_exporter": "python",
   "pygments_lexer": "ipython3",
   "version": "3.9.13"
  }
 },
 "nbformat": 4,
 "nbformat_minor": 4
}
