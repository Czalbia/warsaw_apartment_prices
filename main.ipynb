{
 "cells": [
  {
   "cell_type": "markdown",
   "metadata": {},
   "source": [
    "## **You want to predict the price for renting an apartment in Warsaw?**\n",
    "Check out this apartment price prediction script that utilizes linear regression and a simple database to predict the price of an apartment.\n",
    "Explanation of all the mathematics is in this file as well."
   ]
  },
  {
   "cell_type": "markdown",
   "metadata": {},
   "source": [
    "##### **First part - import and prepare the data**"
   ]
  },
  {
   "cell_type": "markdown",
   "metadata": {},
   "source": [
    "`matplotlib` for ploting\n",
    "\n",
    "`pandas` for converting csv into python list "
   ]
  },
  {
   "cell_type": "code",
   "execution_count": null,
   "metadata": {},
   "outputs": [],
   "source": [
    "from matplotlib import pyplot as plt\n",
    "import pandas as pd"
   ]
  },
  {
   "cell_type": "code",
   "execution_count": null,
   "metadata": {},
   "outputs": [],
   "source": [
    "imported= pd.read_csv('data.csv')\n",
    "df = pd.DataFrame(data=imported)"
   ]
  },
  {
   "cell_type": "code",
   "execution_count": null,
   "metadata": {},
   "outputs": [],
   "source": [
    "df\n"
   ]
  },
  {
   "cell_type": "code",
   "execution_count": null,
   "metadata": {},
   "outputs": [],
   "source": [
    "df = df.filter(['area','gross_price'])\n",
    "df"
   ]
  },
  {
   "cell_type": "code",
   "execution_count": null,
   "metadata": {},
   "outputs": [],
   "source": [
    "# points = [[1,2],[2,6],[4.5,7],[6.78,8.23],[9.73, 12.52],[11.75,15.21],[14.89, 19.46]]\n",
    "n = len(df)\n",
    "print(n)\n",
    "x = df['area'].tolist()\n",
    "y = df['gross_price'].tolist()"
   ]
  },
  {
   "cell_type": "code",
   "execution_count": null,
   "metadata": {},
   "outputs": [],
   "source": [
    "plt.plot(x,y,\".\")"
   ]
  },
  {
   "cell_type": "markdown",
   "metadata": {},
   "source": [
    "##### **Second part - calculating the means and sum of squares**"
   ]
  },
  {
   "cell_type": "markdown",
   "metadata": {},
   "source": [
    "So, now a little bit of mathematics.\n",
    "\n",
    "To calculate the optimal line of regression, which is used to predict the price of an apartment, we have to minimize the formula for the total sum of squares of $Y$. $SSy$ tells us how big is the sum of all the differences of $Yi$ and $\\overline{Y}$. It basically tells us how precies is our linear function. The parameters of a linear function are $\\hat{\\beta_0}$ and $\\hat{\\beta_1}$, we can find the optimal ones in these 3 steps.\n",
    "\n",
    "1. Deriving the formula for partial derivatives of $\\hat{\\beta_0}$ and $\\hat{\\beta_1}$ <br>\n",
    "    -> It is done to determine the slope of the function in a given moment\n",
    "2. Calculating zeroes of these two derivatives <br>\n",
    "    -> $\\frac{\\partial f}{\\partial x} = 0$ means a local minimum of a function  \n",
    "3. Solving the simultanious equations for $\\hat{\\beta_0}$ and $\\hat{\\beta_1}$ <br>\n",
    "    -> To have the complete forumla for the linear regression $Y = \\hat{\\beta_1}X + \\hat{\\beta_0}$"
   ]
  },
  {
   "cell_type": "markdown",
   "metadata": {},
   "source": [
    "Formula for calculating the mean: <br>\n",
    "\n",
    "$\\overline{X} = \\frac{\\sum_{i = 0}^{n} Xi}{n}$\n",
    "\n",
    "$\\overline{Y} = \\frac{\\sum_{i = 0}^{n} Yi}{n}$"
   ]
  },
  {
   "cell_type": "markdown",
   "metadata": {},
   "source": [
    "**Step 1.** <br>\n",
    "\n",
    "**For $\\hat{\\beta_0}$** <br>\n",
    "\n",
    "$\\frac{\\partial }{\\partial \\beta_0} \\sum_{i = 0}^{n} (Yi - \\hat{Y})^2 = \\sum_{i = 0}^{n} \\frac{\\partial }{\\partial \\beta_0}  (Yi - \\hat{\\beta_0} - \\hat{\\beta_1}Xi)^2 = -2\\sum_{i = 0}^{n} (Yi - \\hat{\\beta_0} - \\hat{\\beta_1}Xi)$\n",
    "\n",
    "**For $\\hat{\\beta_1}$** <br>\n",
    "\n",
    "$\\frac{\\partial }{\\partial \\beta_1} \\sum_{i = 0}^{n} (Yi - \\hat{Y})^2 = \\sum_{i = 0}^{n} \\frac{\\partial }{\\partial \\beta_1}  (Yi - \\hat{\\beta_0} - \\hat{\\beta_1}Xi)^2 = -2\\sum_{i = 0}^{n} Xi(Yi - \\hat{\\beta_0} - \\hat{\\beta_1}Xi)$"
   ]
  },
  {
   "cell_type": "markdown",
   "metadata": {},
   "source": [
    "**Step 2.** <br>\n",
    "\n",
    "$-2\\sum_{i = 0}^{n} (Yi - \\hat{\\beta_0} - \\hat{\\beta_1}Xi = 0$<br>\n",
    "$-2\\sum_{i = 0}^{n} Xi(Yi - \\hat{\\beta_0} - \\hat{\\beta_1}Xi) = 0$\n",
    "\n",
    "To simplify $\\sum_{i = 0}^{n} = \\sum$\n",
    "\n",
    "$\\sum(Yi - \\hat{\\beta_0} - \\hat{\\beta_1}Xi) = 0$<br>\n",
    "$\\sum Xi(Yi - \\hat{\\beta_0} - \\hat{\\beta_1}Xi) = 0$\n",
    "\n",
    "Now derive the formula for $\\hat{\\beta_0}$ from the first equation to then substitute in the second equation\n",
    "\n",
    "$\\sum Yi - \\sum \\hat{\\beta_0} - \\sum \\hat{\\beta_1}Xi = 0$<br>\n",
    "\n",
    "$\\hat{\\beta_0}$ and $\\hat{\\beta_1}$ are treated as constants \n",
    "\n",
    "$\\sum Yi - \\hat{\\beta_0}\\sum 1 - \\hat{\\beta_1}\\sum Xi = 0$<br>\n",
    "$\\sum Yi - \\hat{\\beta_0}n - \\hat{\\beta_1}\\sum Xi = 0$ <br>\n",
    "$\\sum Yi - \\hat{\\beta_1}\\sum Xi = \\hat{\\beta_0}n$<br>\n",
    "$\\hat{\\beta_0} = \\frac{\\sum Yi - \\hat{\\beta_1}\\sum Xi}{n}$<br>\n",
    "\n",
    "\n",
    "\\begin{align*}\n",
    "\n",
    "\\hat{\\beta_0} = \\hat{Y} - \\hat{\\beta_1}\\overline{X} \\\\\n",
    "\n",
    "\\end{align*}\n",
    "\n",
    "**Substitution**\n",
    "\n"
   ]
  },
  {
   "cell_type": "code",
   "execution_count": null,
   "metadata": {},
   "outputs": [],
   "source": [
    "meanX = sum(x)/n\n",
    "meanY = sum(y)/n"
   ]
  },
  {
   "cell_type": "markdown",
   "metadata": {},
   "source": [
    "Formula for calculating the total sum of squares of y:\n",
    "\n",
    "$SSy$ = $\\sum_{i = 0}^{n} (Yi - \\hat{Y})^2$ = $\\sum_{i = 0}^{n} (Yi - \\hat{f(Xi)})^2$ = $\\sum_{i = 0}^{n} (Yi - \\hat{\\beta_0} - \\hat{\\beta_1}Xi)^2$\n"
   ]
  },
  {
   "cell_type": "code",
   "execution_count": null,
   "metadata": {},
   "outputs": [],
   "source": [
    "def total_sum_of_sq_x(n,x,meanX):\n",
    "    a = [(x[i]-meanX)**2 for i in range(n)]\n",
    "    return sum(a)"
   ]
  },
  {
   "cell_type": "markdown",
   "metadata": {},
   "source": [
    "Formula for calculating the total sum of squares of x and y:\n",
    "\n",
    "$SSxy$ = $\\sum_{i = 0}^{n} (Yi - \\hat{Y})^2$ = $\\sum_{i = 0}^{n} (Yi - \\hat{f(Xi)})^2$ = $\\sum_{i = 0}^{n} (Yi - \\hat{\\beta_0} - \\hat{\\beta_1}Xi)^2$\n",
    "\n",
    "Explanation why will be after all the formulas."
   ]
  },
  {
   "cell_type": "code",
   "execution_count": null,
   "metadata": {},
   "outputs": [],
   "source": [
    "def total_sum_of_sq_x_y(n,x,meanX,meanY):\n",
    "    a= [(x[i]-meanX)*(y[i]-meanY) for i in range(n)]\n",
    "    return sum(a)"
   ]
  },
  {
   "cell_type": "markdown",
   "metadata": {},
   "source": []
  },
  {
   "cell_type": "code",
   "execution_count": null,
   "metadata": {},
   "outputs": [],
   "source": [
    "# def linearPredict(m,b,x_to_predict):\n",
    "    "
   ]
  },
  {
   "cell_type": "code",
   "execution_count": null,
   "metadata": {},
   "outputs": [],
   "source": [
    "global beta_one,beta_zero\n",
    "beta_one = total_sum_of_sq_x_y(n,x,meanX,meanY)/total_sum_of_sq_x(n,x,meanX) \n",
    "beta_one"
   ]
  },
  {
   "cell_type": "code",
   "execution_count": null,
   "metadata": {},
   "outputs": [],
   "source": [
    "beta_zero   = meanY - beta_one*meanX\n",
    "print(beta_zero)\n",
    "\n",
    "# predict_y = linearFunction(x2,beta_one,beta_zero)"
   ]
  },
  {
   "cell_type": "code",
   "execution_count": null,
   "metadata": {},
   "outputs": [],
   "source": [
    "plt.axline(xy1=(0,beta_zero),slope=beta_one,color=\"c\")\n",
    "plt.plot(x,y,\".k\")\n"
   ]
  },
  {
   "cell_type": "code",
   "execution_count": null,
   "metadata": {},
   "outputs": [],
   "source": [
    "def predict_y(x):\n",
    "    return beta_one*x+beta_zero "
   ]
  },
  {
   "cell_type": "code",
   "execution_count": null,
   "metadata": {},
   "outputs": [],
   "source": [
    "predict_y(62)"
   ]
  }
 ],
 "metadata": {
  "kernelspec": {
   "display_name": "Python 3 (ipykernel)",
   "language": "python",
   "name": "python3"
  },
  "language_info": {
   "codemirror_mode": {
    "name": "ipython",
    "version": 3
   },
   "file_extension": ".py",
   "mimetype": "text/x-python",
   "name": "python",
   "nbconvert_exporter": "python",
   "pygments_lexer": "ipython3",
   "version": "3.9.13"
  }
 },
 "nbformat": 4,
 "nbformat_minor": 4
}
